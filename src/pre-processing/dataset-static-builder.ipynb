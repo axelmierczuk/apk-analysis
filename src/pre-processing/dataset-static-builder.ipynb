{
 "cells": [
  {
   "cell_type": "code",
   "execution_count": null,
   "id": "initial_id",
   "metadata": {
    "collapsed": true
   },
   "outputs": [],
   "source": [
    "import os\n",
    "import pandas\n",
    "\n",
    "# Try to mitigate path length limitations?\n",
    "OUTPUT_PATH = \"static_dataset\"\n",
    "LOG_LOCATION = \"output.log\"\n",
    "\n",
    "os.makedirs(OUTPUT_PATH, exist_ok=True)\n",
    "if os.path.exists(LOG_LOCATION):\n",
    "    os.remove(LOG_LOCATION)"
   ]
  },
  {
   "cell_type": "code",
   "execution_count": null,
   "outputs": [],
   "source": [
    "# Requires androguard to be installed\n",
    "# https://androguard.readthedocs.io/en/latest/intro/installation.html\n",
    "\n",
    "import androguard.cli.entry_points as androguard_entries\n",
    "import androguard.cli.main as androguard_main\n",
    "from androguard import session\n",
    "\n",
    "# Need to abstract Androguard CLI commands\n",
    "def decompile(file, output, limit=None, jar=None, decompiler=None, format_=None):\n",
    "    s = session.Session()\n",
    "    with open(file, \"rb\") as fd:\n",
    "        s.add(file, fd.read())\n",
    "    androguard_main.export_apps_to_format(file, s, output, limit, jar, decompiler, format_)\n",
    "\n",
    "\n",
    "def cfg(file, output, class_name=\".*\", method_name=\".*\", descriptor=\".*\", access_flag=\".*\", no_isolated=False, show=False, verbose=False):\n",
    "    androguard_entries.androcg_main(\n",
    "        verbose=verbose,\n",
    "        APK=file,\n",
    "        classname=class_name,\n",
    "        methodname=method_name,\n",
    "        descriptor=descriptor,\n",
    "        accessflag=access_flag,\n",
    "        no_isolated=no_isolated,\n",
    "        show=show,\n",
    "        output=output\n",
    "    )"
   ],
   "metadata": {
    "collapsed": false
   },
   "id": "c30a27bf60dd2031"
  },
  {
   "cell_type": "code",
   "execution_count": null,
   "outputs": [],
   "source": [
    "# If you don't have dataset.csv, please run `dataset-summary-builder.ipynb`\n",
    "df = pandas.read_csv('dataset.csv')"
   ],
   "metadata": {
    "collapsed": false
   },
   "id": "ff9d6cd80aeb1721"
  },
  {
   "cell_type": "code",
   "execution_count": null,
   "outputs": [],
   "source": [
    "import logging\n",
    "\n",
    "logger = logging.getLogger(__name__)\n",
    "syslog = logging.StreamHandler()\n",
    "formatter = logging.Formatter('%(asctime)s | %(levelname)s | %(message)s')\n",
    "syslog.setFormatter(formatter)\n",
    "logger.setLevel(logging.INFO)\n",
    "logger.addHandler(syslog)\n",
    "fh = logging.FileHandler(LOG_LOCATION)\n",
    "fh.setLevel(logging.DEBUG)\n",
    "fh.setFormatter(formatter)\n",
    "logger.addHandler(fh)\n"
   ],
   "metadata": {
    "collapsed": false
   },
   "id": "74fc415adca4ebce"
  },
  {
   "cell_type": "code",
   "execution_count": null,
   "outputs": [],
   "source": [
    "output_locations = []\n",
    "\n",
    "checkpoint = \"55fc3365a1\"\n",
    "checkpoint_reached = False\n",
    "\n",
    "for index, row in df.iterrows():\n",
    "    apk_location = row['file_path']\n",
    "    apk_hash = row['sha256'][:10]\n",
    "    \n",
    "    if apk_hash != checkpoint and not checkpoint_reached:\n",
    "        continue\n",
    "        \n",
    "    checkpoint_reached = True\n",
    "        \n",
    "    apk_output = os.path.join(OUTPUT_PATH, apk_hash)\n",
    "    decompiled = os.path.join(apk_output, \"decompiled\")\n",
    "    blocks = os.path.join(apk_output, \"blocks\")\n",
    "    cfg_xml = os.path.join(apk_output, \"cfg.gml\")\n",
    "    \n",
    "    os.makedirs(apk_output, exist_ok=True)\n",
    "    os.makedirs(decompiled, exist_ok=True)\n",
    "    os.makedirs(blocks, exist_ok=True)\n",
    "    \n",
    "    error_decompile = False\n",
    "    try:\n",
    "        decompile(file=apk_location, output=decompiled)\n",
    "        logger.info(f\"Successfully decompiled: {apk_output}\")\n",
    "    except:\n",
    "        logger.error(f\"Failed to decompile: {apk_output}\")\n",
    "        error_decompile = True\n",
    "\n",
    "    error_cfg = False\n",
    "    try:\n",
    "        cfg(file=apk_location, output=cfg_xml)\n",
    "        logger.info(f\"Successfully created CFG: {apk_output}\")\n",
    "    except:\n",
    "        logger.error(f\"Failed to generate CFG: {apk_output}\")\n",
    "        error_cfg = True\n",
    "\n",
    "    df.at[index, 'static_output_location'] = apk_output\n",
    "    df.at[index, 'error_decompile'] = error_decompile\n",
    "    df.at[index, 'error_cfg'] = error_cfg\n",
    "    df.at[index, 'error'] = error_decompile or error_cfg\n",
    "    \n",
    "    output_locations.append({\n",
    "        'index': index,\n",
    "        'path': apk_output, \n",
    "        'error_decompile': error_decompile,\n",
    "        'error_cfg': error_cfg,\n",
    "        'error': error_decompile or error_cfg\n",
    "    })\n",
    "    \n",
    "    "
   ],
   "metadata": {
    "collapsed": false,
    "is_executing": true
   },
   "id": "e5aa2f1775deaf5a"
  },
  {
   "cell_type": "code",
   "execution_count": null,
   "outputs": [],
   "source": [],
   "metadata": {
    "collapsed": false,
    "is_executing": true
   },
   "id": "fb36671c54267f54"
  }
 ],
 "metadata": {
  "kernelspec": {
   "display_name": "Python 3",
   "language": "python",
   "name": "python3"
  },
  "language_info": {
   "codemirror_mode": {
    "name": "ipython",
    "version": 2
   },
   "file_extension": ".py",
   "mimetype": "text/x-python",
   "name": "python",
   "nbconvert_exporter": "python",
   "pygments_lexer": "ipython2",
   "version": "2.7.6"
  }
 },
 "nbformat": 4,
 "nbformat_minor": 5
}

{
 "cells": [
  {
   "cell_type": "code",
   "execution_count": 1,
   "outputs": [],
   "source": [
    "import pandas as pd\n",
    "import plugin\n",
    "from sklearn.model_selection import GridSearchCV\n",
    "from sklearn.model_selection import train_test_split"
   ],
   "metadata": {
    "collapsed": false,
    "ExecuteTime": {
     "end_time": "2023-12-10T21:21:51.591265178Z",
     "start_time": "2023-12-10T21:21:50.861131392Z"
    }
   },
   "id": "ba05c2e6b7c3056c"
  },
  {
   "cell_type": "code",
   "execution_count": 2,
   "outputs": [],
   "source": [
    "df = pd.read_csv('../../dataset/dataset-dynamic-static-joined.csv')"
   ],
   "metadata": {
    "collapsed": false,
    "ExecuteTime": {
     "end_time": "2023-12-10T21:21:51.679804067Z",
     "start_time": "2023-12-10T21:21:51.591231433Z"
    }
   },
   "id": "c150eec5d28ec7cc"
  },
  {
   "cell_type": "code",
   "execution_count": 3,
   "outputs": [
    {
     "name": "stdout",
     "output_type": "stream",
     "text": [
      "Found the following types: \n",
      "\t- Adware: 0\n",
      "\t- Ransomware: 1\n",
      "\t- Scareware: 2\n",
      "\t- benign: 3\n",
      "Found the following families: \n",
      "\t- 2015: 0\n",
      "\t- 2016: 1\n",
      "\t- 2017: 2\n",
      "\t- AndroidDefender: 3\n",
      "\t- AvForAndroid: 4\n",
      "\t- Charger: 5\n",
      "\t- Jisut: 6\n",
      "\t- Koler: 7\n",
      "\t- LockerPin: 8\n",
      "\t- Pletor: 9\n",
      "\t- PornDroid: 10\n",
      "\t- RansomBO: 11\n",
      "\t- Simplocker: 12\n",
      "\t- Svpeng: 13\n",
      "\t- Wannalocker: 14\n",
      "\t- android.spy.277: 15\n",
      "\t- avPass: 16\n",
      "\t- dowgin: 17\n",
      "\t- edwin: 18\n",
      "\t- fakeAV: 19\n",
      "\t- fakeApp: 20\n",
      "\t- fakeApp_AL: 21\n",
      "\t- fakeJobOffer: 22\n",
      "\t- faketaoBao: 23\n",
      "\t- feiwo: 24\n",
      "\t- gooligan: 25\n",
      "\t- kemoge: 26\n",
      "\t- koodous: 27\n",
      "\t- mobidash: 28\n",
      "\t- penetho: 29\n",
      "\t- selfmite: 30\n",
      "\t- shuanet: 31\n",
      "\t- virusShield: 32\n",
      "\t- youmi: 33\n"
     ]
    }
   ],
   "source": [
    "df, df_features, df_categories, types, families = plugin.pre_processing.pre_process(df=df)"
   ],
   "metadata": {
    "collapsed": false,
    "ExecuteTime": {
     "end_time": "2023-12-10T21:21:51.723862031Z",
     "start_time": "2023-12-10T21:21:51.679759003Z"
    }
   },
   "id": "c3580e794adce23c"
  },
  {
   "cell_type": "code",
   "execution_count": 4,
   "outputs": [
    {
     "data": {
      "text/plain": "   call_count_newfstatat  call_count_mmap  call_count_openat  \\\n0                   85.0               83               69.0   \n1                  101.0               87               77.0   \n2                   90.0               82               76.0   \n3                   90.0               91               77.0   \n4                   94.0               76               77.0   \n\n   call_count_prctl  call_count_mprotect  call_count_futex  call_count_write  \\\n0                65                 60.0              48.0              47.0   \n1                59                 60.0              42.0              50.0   \n2                60                 56.0              48.0              52.0   \n3                58                 58.0              39.0              50.0   \n4                51                 52.0              40.0              54.0   \n\n   call_count_pread64  call_count_getuid  call_count_writev  ...  \\\n0                44.0               41.0               32.0  ...   \n1                52.0               39.0               32.0  ...   \n2                50.0               36.0               32.0  ...   \n3                51.0               40.0               33.0  ...   \n4                52.0               42.0               35.0  ...   \n\n   permission_com.keyideas.indianrailways.permission.C2D_MESSAGE  \\\n0                                                0.0               \n1                                                0.0               \n2                                                0.0               \n3                                                0.0               \n4                                                0.0               \n\n   permission_com.unearby.sayhi.permission.C2D_MESSAGE  \\\n0                                                0.0     \n1                                                0.0     \n2                                                0.0     \n3                                                0.0     \n4                                                0.0     \n\n   permission_com.unearby.sayhi.permission.MAPS_RECEIVE  \\\n0                                                0.0      \n1                                                0.0      \n2                                                0.0      \n3                                                0.0      \n4                                                0.0      \n\n   permission_basic.guru.gforms.permission.C2D_MESSAGE  \\\n0                                                0.0     \n1                                                0.0     \n2                                                0.0     \n3                                                0.0     \n4                                                0.0     \n\n   permission_com.minus.android.permission.C2D_MESSAGE  \\\n0                                                0.0     \n1                                                0.0     \n2                                                0.0     \n3                                                0.0     \n4                                                0.0     \n\n   permission_uk.co.avoir.accord.permission.C2D_MESSAGE  \\\n0                                                0.0      \n1                                                0.0      \n2                                                0.0      \n3                                                0.0      \n4                                                0.0      \n\n   permission_com.blackboard.mosaic.lousdk12caus.permission.C2D_MESSAGE  \\\n0                                                0.0                      \n1                                                0.0                      \n2                                                0.0                      \n3                                                0.0                      \n4                                                0.0                      \n\n   permission_com.im.urbancyclist.permission.C2D_MESSAGE  \\\n0                                                0.0       \n1                                                0.0       \n2                                                0.0       \n3                                                0.0       \n4                                                0.0       \n\n   permission_com.im.urbancyclist.permission.UA_DATA  malicious  \n0                                                0.0          0  \n1                                                0.0          0  \n2                                                0.0          0  \n3                                                0.0          0  \n4                                                0.0          0  \n\n[5 rows x 1279 columns]",
      "text/html": "<div>\n<style scoped>\n    .dataframe tbody tr th:only-of-type {\n        vertical-align: middle;\n    }\n\n    .dataframe tbody tr th {\n        vertical-align: top;\n    }\n\n    .dataframe thead th {\n        text-align: right;\n    }\n</style>\n<table border=\"1\" class=\"dataframe\">\n  <thead>\n    <tr style=\"text-align: right;\">\n      <th></th>\n      <th>call_count_newfstatat</th>\n      <th>call_count_mmap</th>\n      <th>call_count_openat</th>\n      <th>call_count_prctl</th>\n      <th>call_count_mprotect</th>\n      <th>call_count_futex</th>\n      <th>call_count_write</th>\n      <th>call_count_pread64</th>\n      <th>call_count_getuid</th>\n      <th>call_count_writev</th>\n      <th>...</th>\n      <th>permission_com.keyideas.indianrailways.permission.C2D_MESSAGE</th>\n      <th>permission_com.unearby.sayhi.permission.C2D_MESSAGE</th>\n      <th>permission_com.unearby.sayhi.permission.MAPS_RECEIVE</th>\n      <th>permission_basic.guru.gforms.permission.C2D_MESSAGE</th>\n      <th>permission_com.minus.android.permission.C2D_MESSAGE</th>\n      <th>permission_uk.co.avoir.accord.permission.C2D_MESSAGE</th>\n      <th>permission_com.blackboard.mosaic.lousdk12caus.permission.C2D_MESSAGE</th>\n      <th>permission_com.im.urbancyclist.permission.C2D_MESSAGE</th>\n      <th>permission_com.im.urbancyclist.permission.UA_DATA</th>\n      <th>malicious</th>\n    </tr>\n  </thead>\n  <tbody>\n    <tr>\n      <th>0</th>\n      <td>85.0</td>\n      <td>83</td>\n      <td>69.0</td>\n      <td>65</td>\n      <td>60.0</td>\n      <td>48.0</td>\n      <td>47.0</td>\n      <td>44.0</td>\n      <td>41.0</td>\n      <td>32.0</td>\n      <td>...</td>\n      <td>0.0</td>\n      <td>0.0</td>\n      <td>0.0</td>\n      <td>0.0</td>\n      <td>0.0</td>\n      <td>0.0</td>\n      <td>0.0</td>\n      <td>0.0</td>\n      <td>0.0</td>\n      <td>0</td>\n    </tr>\n    <tr>\n      <th>1</th>\n      <td>101.0</td>\n      <td>87</td>\n      <td>77.0</td>\n      <td>59</td>\n      <td>60.0</td>\n      <td>42.0</td>\n      <td>50.0</td>\n      <td>52.0</td>\n      <td>39.0</td>\n      <td>32.0</td>\n      <td>...</td>\n      <td>0.0</td>\n      <td>0.0</td>\n      <td>0.0</td>\n      <td>0.0</td>\n      <td>0.0</td>\n      <td>0.0</td>\n      <td>0.0</td>\n      <td>0.0</td>\n      <td>0.0</td>\n      <td>0</td>\n    </tr>\n    <tr>\n      <th>2</th>\n      <td>90.0</td>\n      <td>82</td>\n      <td>76.0</td>\n      <td>60</td>\n      <td>56.0</td>\n      <td>48.0</td>\n      <td>52.0</td>\n      <td>50.0</td>\n      <td>36.0</td>\n      <td>32.0</td>\n      <td>...</td>\n      <td>0.0</td>\n      <td>0.0</td>\n      <td>0.0</td>\n      <td>0.0</td>\n      <td>0.0</td>\n      <td>0.0</td>\n      <td>0.0</td>\n      <td>0.0</td>\n      <td>0.0</td>\n      <td>0</td>\n    </tr>\n    <tr>\n      <th>3</th>\n      <td>90.0</td>\n      <td>91</td>\n      <td>77.0</td>\n      <td>58</td>\n      <td>58.0</td>\n      <td>39.0</td>\n      <td>50.0</td>\n      <td>51.0</td>\n      <td>40.0</td>\n      <td>33.0</td>\n      <td>...</td>\n      <td>0.0</td>\n      <td>0.0</td>\n      <td>0.0</td>\n      <td>0.0</td>\n      <td>0.0</td>\n      <td>0.0</td>\n      <td>0.0</td>\n      <td>0.0</td>\n      <td>0.0</td>\n      <td>0</td>\n    </tr>\n    <tr>\n      <th>4</th>\n      <td>94.0</td>\n      <td>76</td>\n      <td>77.0</td>\n      <td>51</td>\n      <td>52.0</td>\n      <td>40.0</td>\n      <td>54.0</td>\n      <td>52.0</td>\n      <td>42.0</td>\n      <td>35.0</td>\n      <td>...</td>\n      <td>0.0</td>\n      <td>0.0</td>\n      <td>0.0</td>\n      <td>0.0</td>\n      <td>0.0</td>\n      <td>0.0</td>\n      <td>0.0</td>\n      <td>0.0</td>\n      <td>0.0</td>\n      <td>0</td>\n    </tr>\n  </tbody>\n</table>\n<p>5 rows × 1279 columns</p>\n</div>"
     },
     "execution_count": 4,
     "metadata": {},
     "output_type": "execute_result"
    }
   ],
   "source": [
    "df.head()"
   ],
   "metadata": {
    "collapsed": false,
    "ExecuteTime": {
     "end_time": "2023-12-10T21:21:51.822906923Z",
     "start_time": "2023-12-10T21:21:51.722823553Z"
    }
   },
   "id": "966881f4f8862f5c"
  },
  {
   "cell_type": "code",
   "execution_count": 5,
   "outputs": [
    {
     "data": {
      "text/plain": "   call_count_newfstatat  call_count_mmap  call_count_openat  \\\n0                   85.0               83               69.0   \n1                  101.0               87               77.0   \n2                   90.0               82               76.0   \n3                   90.0               91               77.0   \n4                   94.0               76               77.0   \n\n   call_count_prctl  call_count_mprotect  call_count_futex  call_count_write  \\\n0                65                 60.0              48.0              47.0   \n1                59                 60.0              42.0              50.0   \n2                60                 56.0              48.0              52.0   \n3                58                 58.0              39.0              50.0   \n4                51                 52.0              40.0              54.0   \n\n   call_count_pread64  call_count_getuid  call_count_writev  ...  \\\n0                44.0               41.0               32.0  ...   \n1                52.0               39.0               32.0  ...   \n2                50.0               36.0               32.0  ...   \n3                51.0               40.0               33.0  ...   \n4                52.0               42.0               35.0  ...   \n\n   permission_com.accessbank.accessbankapp.permission.C2D_MESSAGE  \\\n0                                                0.0                \n1                                                0.0                \n2                                                0.0                \n3                                                0.0                \n4                                                0.0                \n\n   permission_com.keyideas.indianrailways.permission.C2D_MESSAGE  \\\n0                                                0.0               \n1                                                0.0               \n2                                                0.0               \n3                                                0.0               \n4                                                0.0               \n\n   permission_com.unearby.sayhi.permission.C2D_MESSAGE  \\\n0                                                0.0     \n1                                                0.0     \n2                                                0.0     \n3                                                0.0     \n4                                                0.0     \n\n   permission_com.unearby.sayhi.permission.MAPS_RECEIVE  \\\n0                                                0.0      \n1                                                0.0      \n2                                                0.0      \n3                                                0.0      \n4                                                0.0      \n\n   permission_basic.guru.gforms.permission.C2D_MESSAGE  \\\n0                                                0.0     \n1                                                0.0     \n2                                                0.0     \n3                                                0.0     \n4                                                0.0     \n\n   permission_com.minus.android.permission.C2D_MESSAGE  \\\n0                                                0.0     \n1                                                0.0     \n2                                                0.0     \n3                                                0.0     \n4                                                0.0     \n\n   permission_uk.co.avoir.accord.permission.C2D_MESSAGE  \\\n0                                                0.0      \n1                                                0.0      \n2                                                0.0      \n3                                                0.0      \n4                                                0.0      \n\n   permission_com.blackboard.mosaic.lousdk12caus.permission.C2D_MESSAGE  \\\n0                                                0.0                      \n1                                                0.0                      \n2                                                0.0                      \n3                                                0.0                      \n4                                                0.0                      \n\n   permission_com.im.urbancyclist.permission.C2D_MESSAGE  \\\n0                                                0.0       \n1                                                0.0       \n2                                                0.0       \n3                                                0.0       \n4                                                0.0       \n\n   permission_com.im.urbancyclist.permission.UA_DATA  \n0                                                0.0  \n1                                                0.0  \n2                                                0.0  \n3                                                0.0  \n4                                                0.0  \n\n[5 rows x 1276 columns]",
      "text/html": "<div>\n<style scoped>\n    .dataframe tbody tr th:only-of-type {\n        vertical-align: middle;\n    }\n\n    .dataframe tbody tr th {\n        vertical-align: top;\n    }\n\n    .dataframe thead th {\n        text-align: right;\n    }\n</style>\n<table border=\"1\" class=\"dataframe\">\n  <thead>\n    <tr style=\"text-align: right;\">\n      <th></th>\n      <th>call_count_newfstatat</th>\n      <th>call_count_mmap</th>\n      <th>call_count_openat</th>\n      <th>call_count_prctl</th>\n      <th>call_count_mprotect</th>\n      <th>call_count_futex</th>\n      <th>call_count_write</th>\n      <th>call_count_pread64</th>\n      <th>call_count_getuid</th>\n      <th>call_count_writev</th>\n      <th>...</th>\n      <th>permission_com.accessbank.accessbankapp.permission.C2D_MESSAGE</th>\n      <th>permission_com.keyideas.indianrailways.permission.C2D_MESSAGE</th>\n      <th>permission_com.unearby.sayhi.permission.C2D_MESSAGE</th>\n      <th>permission_com.unearby.sayhi.permission.MAPS_RECEIVE</th>\n      <th>permission_basic.guru.gforms.permission.C2D_MESSAGE</th>\n      <th>permission_com.minus.android.permission.C2D_MESSAGE</th>\n      <th>permission_uk.co.avoir.accord.permission.C2D_MESSAGE</th>\n      <th>permission_com.blackboard.mosaic.lousdk12caus.permission.C2D_MESSAGE</th>\n      <th>permission_com.im.urbancyclist.permission.C2D_MESSAGE</th>\n      <th>permission_com.im.urbancyclist.permission.UA_DATA</th>\n    </tr>\n  </thead>\n  <tbody>\n    <tr>\n      <th>0</th>\n      <td>85.0</td>\n      <td>83</td>\n      <td>69.0</td>\n      <td>65</td>\n      <td>60.0</td>\n      <td>48.0</td>\n      <td>47.0</td>\n      <td>44.0</td>\n      <td>41.0</td>\n      <td>32.0</td>\n      <td>...</td>\n      <td>0.0</td>\n      <td>0.0</td>\n      <td>0.0</td>\n      <td>0.0</td>\n      <td>0.0</td>\n      <td>0.0</td>\n      <td>0.0</td>\n      <td>0.0</td>\n      <td>0.0</td>\n      <td>0.0</td>\n    </tr>\n    <tr>\n      <th>1</th>\n      <td>101.0</td>\n      <td>87</td>\n      <td>77.0</td>\n      <td>59</td>\n      <td>60.0</td>\n      <td>42.0</td>\n      <td>50.0</td>\n      <td>52.0</td>\n      <td>39.0</td>\n      <td>32.0</td>\n      <td>...</td>\n      <td>0.0</td>\n      <td>0.0</td>\n      <td>0.0</td>\n      <td>0.0</td>\n      <td>0.0</td>\n      <td>0.0</td>\n      <td>0.0</td>\n      <td>0.0</td>\n      <td>0.0</td>\n      <td>0.0</td>\n    </tr>\n    <tr>\n      <th>2</th>\n      <td>90.0</td>\n      <td>82</td>\n      <td>76.0</td>\n      <td>60</td>\n      <td>56.0</td>\n      <td>48.0</td>\n      <td>52.0</td>\n      <td>50.0</td>\n      <td>36.0</td>\n      <td>32.0</td>\n      <td>...</td>\n      <td>0.0</td>\n      <td>0.0</td>\n      <td>0.0</td>\n      <td>0.0</td>\n      <td>0.0</td>\n      <td>0.0</td>\n      <td>0.0</td>\n      <td>0.0</td>\n      <td>0.0</td>\n      <td>0.0</td>\n    </tr>\n    <tr>\n      <th>3</th>\n      <td>90.0</td>\n      <td>91</td>\n      <td>77.0</td>\n      <td>58</td>\n      <td>58.0</td>\n      <td>39.0</td>\n      <td>50.0</td>\n      <td>51.0</td>\n      <td>40.0</td>\n      <td>33.0</td>\n      <td>...</td>\n      <td>0.0</td>\n      <td>0.0</td>\n      <td>0.0</td>\n      <td>0.0</td>\n      <td>0.0</td>\n      <td>0.0</td>\n      <td>0.0</td>\n      <td>0.0</td>\n      <td>0.0</td>\n      <td>0.0</td>\n    </tr>\n    <tr>\n      <th>4</th>\n      <td>94.0</td>\n      <td>76</td>\n      <td>77.0</td>\n      <td>51</td>\n      <td>52.0</td>\n      <td>40.0</td>\n      <td>54.0</td>\n      <td>52.0</td>\n      <td>42.0</td>\n      <td>35.0</td>\n      <td>...</td>\n      <td>0.0</td>\n      <td>0.0</td>\n      <td>0.0</td>\n      <td>0.0</td>\n      <td>0.0</td>\n      <td>0.0</td>\n      <td>0.0</td>\n      <td>0.0</td>\n      <td>0.0</td>\n      <td>0.0</td>\n    </tr>\n  </tbody>\n</table>\n<p>5 rows × 1276 columns</p>\n</div>"
     },
     "execution_count": 5,
     "metadata": {},
     "output_type": "execute_result"
    }
   ],
   "source": [
    "df_features.head()"
   ],
   "metadata": {
    "collapsed": false,
    "ExecuteTime": {
     "end_time": "2023-12-10T21:21:51.864161261Z",
     "start_time": "2023-12-10T21:21:51.788551750Z"
    }
   },
   "id": "623949ccc14d0213"
  },
  {
   "cell_type": "code",
   "execution_count": 6,
   "outputs": [
    {
     "data": {
      "text/plain": "   malicious  type  family\n0          0     3       1\n1          0     3       0\n2          0     3       1\n3          0     3       0\n4          0     3       2",
      "text/html": "<div>\n<style scoped>\n    .dataframe tbody tr th:only-of-type {\n        vertical-align: middle;\n    }\n\n    .dataframe tbody tr th {\n        vertical-align: top;\n    }\n\n    .dataframe thead th {\n        text-align: right;\n    }\n</style>\n<table border=\"1\" class=\"dataframe\">\n  <thead>\n    <tr style=\"text-align: right;\">\n      <th></th>\n      <th>malicious</th>\n      <th>type</th>\n      <th>family</th>\n    </tr>\n  </thead>\n  <tbody>\n    <tr>\n      <th>0</th>\n      <td>0</td>\n      <td>3</td>\n      <td>1</td>\n    </tr>\n    <tr>\n      <th>1</th>\n      <td>0</td>\n      <td>3</td>\n      <td>0</td>\n    </tr>\n    <tr>\n      <th>2</th>\n      <td>0</td>\n      <td>3</td>\n      <td>1</td>\n    </tr>\n    <tr>\n      <th>3</th>\n      <td>0</td>\n      <td>3</td>\n      <td>0</td>\n    </tr>\n    <tr>\n      <th>4</th>\n      <td>0</td>\n      <td>3</td>\n      <td>2</td>\n    </tr>\n  </tbody>\n</table>\n</div>"
     },
     "execution_count": 6,
     "metadata": {},
     "output_type": "execute_result"
    }
   ],
   "source": [
    "df_categories.head()"
   ],
   "metadata": {
    "collapsed": false,
    "ExecuteTime": {
     "end_time": "2023-12-10T21:21:51.864790081Z",
     "start_time": "2023-12-10T21:21:51.835210037Z"
    }
   },
   "id": "59a8c176ba2eb479"
  },
  {
   "cell_type": "code",
   "execution_count": 7,
   "outputs": [
    {
     "data": {
      "text/plain": "['malicious', 'type', 'family']"
     },
     "execution_count": 7,
     "metadata": {},
     "output_type": "execute_result"
    }
   ],
   "source": [
    "categorization_columns = df_categories.columns.tolist()\n",
    "categorization_columns"
   ],
   "metadata": {
    "collapsed": false,
    "ExecuteTime": {
     "end_time": "2023-12-10T21:21:51.865257334Z",
     "start_time": "2023-12-10T21:21:51.835292368Z"
    }
   },
   "id": "6781c8bc7ee20f2b"
  },
  {
   "cell_type": "code",
   "execution_count": 8,
   "outputs": [],
   "source": [
    "random_state = 1337"
   ],
   "metadata": {
    "collapsed": false,
    "ExecuteTime": {
     "end_time": "2023-12-10T21:21:51.865646611Z",
     "start_time": "2023-12-10T21:21:51.835333729Z"
    }
   },
   "id": "f66b6b241d2486a2"
  },
  {
   "cell_type": "code",
   "execution_count": 9,
   "outputs": [],
   "source": [
    "# Split dataset\n",
    "train, test = train_test_split(df, test_size=0.2, random_state=random_state)\n",
    "\n",
    "# Training\n",
    "X_train = train.drop(categorization_columns, axis=1)\n",
    "y_train = train[categorization_columns[0]]\n",
    "\n",
    "\n",
    "# Testing\n",
    "X_test = test.drop(categorization_columns, axis=1)\n",
    "y_test = test[categorization_columns[0]]"
   ],
   "metadata": {
    "collapsed": false,
    "ExecuteTime": {
     "end_time": "2023-12-10T21:21:51.919693150Z",
     "start_time": "2023-12-10T21:21:51.835367809Z"
    }
   },
   "id": "e625835008bc6b5b"
  },
  {
   "cell_type": "code",
   "execution_count": 10,
   "outputs": [
    {
     "data": {
      "text/plain": "GridSearchCV(cv=5, estimator=SVC(),\n             param_grid={'C': [0.1, 1, 10, 100, 1000],\n                         'gamma': [1, 0.1, 0.01, 0.001, 0.0001],\n                         'kernel': ['rbf']})",
      "text/html": "<style>#sk-container-id-1 {color: black;}#sk-container-id-1 pre{padding: 0;}#sk-container-id-1 div.sk-toggleable {background-color: white;}#sk-container-id-1 label.sk-toggleable__label {cursor: pointer;display: block;width: 100%;margin-bottom: 0;padding: 0.3em;box-sizing: border-box;text-align: center;}#sk-container-id-1 label.sk-toggleable__label-arrow:before {content: \"▸\";float: left;margin-right: 0.25em;color: #696969;}#sk-container-id-1 label.sk-toggleable__label-arrow:hover:before {color: black;}#sk-container-id-1 div.sk-estimator:hover label.sk-toggleable__label-arrow:before {color: black;}#sk-container-id-1 div.sk-toggleable__content {max-height: 0;max-width: 0;overflow: hidden;text-align: left;background-color: #f0f8ff;}#sk-container-id-1 div.sk-toggleable__content pre {margin: 0.2em;color: black;border-radius: 0.25em;background-color: #f0f8ff;}#sk-container-id-1 input.sk-toggleable__control:checked~div.sk-toggleable__content {max-height: 200px;max-width: 100%;overflow: auto;}#sk-container-id-1 input.sk-toggleable__control:checked~label.sk-toggleable__label-arrow:before {content: \"▾\";}#sk-container-id-1 div.sk-estimator input.sk-toggleable__control:checked~label.sk-toggleable__label {background-color: #d4ebff;}#sk-container-id-1 div.sk-label input.sk-toggleable__control:checked~label.sk-toggleable__label {background-color: #d4ebff;}#sk-container-id-1 input.sk-hidden--visually {border: 0;clip: rect(1px 1px 1px 1px);clip: rect(1px, 1px, 1px, 1px);height: 1px;margin: -1px;overflow: hidden;padding: 0;position: absolute;width: 1px;}#sk-container-id-1 div.sk-estimator {font-family: monospace;background-color: #f0f8ff;border: 1px dotted black;border-radius: 0.25em;box-sizing: border-box;margin-bottom: 0.5em;}#sk-container-id-1 div.sk-estimator:hover {background-color: #d4ebff;}#sk-container-id-1 div.sk-parallel-item::after {content: \"\";width: 100%;border-bottom: 1px solid gray;flex-grow: 1;}#sk-container-id-1 div.sk-label:hover label.sk-toggleable__label {background-color: #d4ebff;}#sk-container-id-1 div.sk-serial::before {content: \"\";position: absolute;border-left: 1px solid gray;box-sizing: border-box;top: 0;bottom: 0;left: 50%;z-index: 0;}#sk-container-id-1 div.sk-serial {display: flex;flex-direction: column;align-items: center;background-color: white;padding-right: 0.2em;padding-left: 0.2em;position: relative;}#sk-container-id-1 div.sk-item {position: relative;z-index: 1;}#sk-container-id-1 div.sk-parallel {display: flex;align-items: stretch;justify-content: center;background-color: white;position: relative;}#sk-container-id-1 div.sk-item::before, #sk-container-id-1 div.sk-parallel-item::before {content: \"\";position: absolute;border-left: 1px solid gray;box-sizing: border-box;top: 0;bottom: 0;left: 50%;z-index: -1;}#sk-container-id-1 div.sk-parallel-item {display: flex;flex-direction: column;z-index: 1;position: relative;background-color: white;}#sk-container-id-1 div.sk-parallel-item:first-child::after {align-self: flex-end;width: 50%;}#sk-container-id-1 div.sk-parallel-item:last-child::after {align-self: flex-start;width: 50%;}#sk-container-id-1 div.sk-parallel-item:only-child::after {width: 0;}#sk-container-id-1 div.sk-dashed-wrapped {border: 1px dashed gray;margin: 0 0.4em 0.5em 0.4em;box-sizing: border-box;padding-bottom: 0.4em;background-color: white;}#sk-container-id-1 div.sk-label label {font-family: monospace;font-weight: bold;display: inline-block;line-height: 1.2em;}#sk-container-id-1 div.sk-label-container {text-align: center;}#sk-container-id-1 div.sk-container {/* jupyter's `normalize.less` sets `[hidden] { display: none; }` but bootstrap.min.css set `[hidden] { display: none !important; }` so we also need the `!important` here to be able to override the default hidden behavior on the sphinx rendered scikit-learn.org. See: https://github.com/scikit-learn/scikit-learn/issues/21755 */display: inline-block !important;position: relative;}#sk-container-id-1 div.sk-text-repr-fallback {display: none;}</style><div id=\"sk-container-id-1\" class=\"sk-top-container\"><div class=\"sk-text-repr-fallback\"><pre>GridSearchCV(cv=5, estimator=SVC(),\n             param_grid={&#x27;C&#x27;: [0.1, 1, 10, 100, 1000],\n                         &#x27;gamma&#x27;: [1, 0.1, 0.01, 0.001, 0.0001],\n                         &#x27;kernel&#x27;: [&#x27;rbf&#x27;]})</pre><b>In a Jupyter environment, please rerun this cell to show the HTML representation or trust the notebook. <br />On GitHub, the HTML representation is unable to render, please try loading this page with nbviewer.org.</b></div><div class=\"sk-container\" hidden><div class=\"sk-item sk-dashed-wrapped\"><div class=\"sk-label-container\"><div class=\"sk-label sk-toggleable\"><input class=\"sk-toggleable__control sk-hidden--visually\" id=\"sk-estimator-id-1\" type=\"checkbox\" ><label for=\"sk-estimator-id-1\" class=\"sk-toggleable__label sk-toggleable__label-arrow\">GridSearchCV</label><div class=\"sk-toggleable__content\"><pre>GridSearchCV(cv=5, estimator=SVC(),\n             param_grid={&#x27;C&#x27;: [0.1, 1, 10, 100, 1000],\n                         &#x27;gamma&#x27;: [1, 0.1, 0.01, 0.001, 0.0001],\n                         &#x27;kernel&#x27;: [&#x27;rbf&#x27;]})</pre></div></div></div><div class=\"sk-parallel\"><div class=\"sk-parallel-item\"><div class=\"sk-item\"><div class=\"sk-label-container\"><div class=\"sk-label sk-toggleable\"><input class=\"sk-toggleable__control sk-hidden--visually\" id=\"sk-estimator-id-2\" type=\"checkbox\" ><label for=\"sk-estimator-id-2\" class=\"sk-toggleable__label sk-toggleable__label-arrow\">estimator: SVC</label><div class=\"sk-toggleable__content\"><pre>SVC()</pre></div></div></div><div class=\"sk-serial\"><div class=\"sk-item\"><div class=\"sk-estimator sk-toggleable\"><input class=\"sk-toggleable__control sk-hidden--visually\" id=\"sk-estimator-id-3\" type=\"checkbox\" ><label for=\"sk-estimator-id-3\" class=\"sk-toggleable__label sk-toggleable__label-arrow\">SVC</label><div class=\"sk-toggleable__content\"><pre>SVC()</pre></div></div></div></div></div></div></div></div></div></div>"
     },
     "execution_count": 10,
     "metadata": {},
     "output_type": "execute_result"
    }
   ],
   "source": [
    "from sklearn.svm import SVC\n",
    "\n",
    "param_grid = {\n",
    "    'C': [0.1, 1, 10, 100, 1000],\n",
    "    'gamma': [1, 0.1, 0.01, 0.001, 0.0001],\n",
    "    'kernel': ['rbf']\n",
    "}\n",
    "grid = GridSearchCV(SVC(), param_grid, cv=5)\n",
    "grid.fit(X_train, y_train)"
   ],
   "metadata": {
    "collapsed": false,
    "ExecuteTime": {
     "end_time": "2023-12-10T21:22:26.339477047Z",
     "start_time": "2023-12-10T21:21:51.879220163Z"
    }
   },
   "id": "fa1043a060dda4bd"
  },
  {
   "cell_type": "code",
   "execution_count": 11,
   "outputs": [
    {
     "name": "stdout",
     "output_type": "stream",
     "text": [
      "0.848847926267281\n",
      "{'C': 10, 'gamma': 0.0001, 'kernel': 'rbf'}\n",
      "SVC(C=10, gamma=0.0001)\n"
     ]
    }
   ],
   "source": [
    "print(grid.best_score_)\n",
    "\n",
    "print(grid.best_params_)\n",
    "\n",
    "print(grid.best_estimator_)\n"
   ],
   "metadata": {
    "collapsed": false,
    "ExecuteTime": {
     "end_time": "2023-12-10T21:22:26.339732408Z",
     "start_time": "2023-12-10T21:22:26.339255596Z"
    }
   },
   "id": "e137ccb0e1bca685"
  },
  {
   "cell_type": "code",
   "execution_count": 12,
   "outputs": [],
   "source": [
    "from sklearn.metrics import classification_report\n",
    "\n",
    "svc = grid.best_estimator_\n",
    "\n",
    "model = svc.fit(X_train, y_train)"
   ],
   "metadata": {
    "collapsed": false,
    "ExecuteTime": {
     "end_time": "2023-12-10T21:22:26.629310683Z",
     "start_time": "2023-12-10T21:22:26.339348309Z"
    }
   },
   "id": "a0f66afcf7649ffc"
  },
  {
   "cell_type": "code",
   "execution_count": 13,
   "outputs": [
    {
     "data": {
      "text/plain": "              precision    recall  f1-score     support\n0              0.875000  1.000000  0.933333  231.000000\n1              1.000000  0.195122  0.326531   41.000000\naccuracy       0.878676  0.878676  0.878676    0.878676\nmacro avg      0.937500  0.597561  0.629932  272.000000\nweighted avg   0.893842  0.878676  0.841867  272.000000",
      "text/html": "<div>\n<style scoped>\n    .dataframe tbody tr th:only-of-type {\n        vertical-align: middle;\n    }\n\n    .dataframe tbody tr th {\n        vertical-align: top;\n    }\n\n    .dataframe thead th {\n        text-align: right;\n    }\n</style>\n<table border=\"1\" class=\"dataframe\">\n  <thead>\n    <tr style=\"text-align: right;\">\n      <th></th>\n      <th>precision</th>\n      <th>recall</th>\n      <th>f1-score</th>\n      <th>support</th>\n    </tr>\n  </thead>\n  <tbody>\n    <tr>\n      <th>0</th>\n      <td>0.875000</td>\n      <td>1.000000</td>\n      <td>0.933333</td>\n      <td>231.000000</td>\n    </tr>\n    <tr>\n      <th>1</th>\n      <td>1.000000</td>\n      <td>0.195122</td>\n      <td>0.326531</td>\n      <td>41.000000</td>\n    </tr>\n    <tr>\n      <th>accuracy</th>\n      <td>0.878676</td>\n      <td>0.878676</td>\n      <td>0.878676</td>\n      <td>0.878676</td>\n    </tr>\n    <tr>\n      <th>macro avg</th>\n      <td>0.937500</td>\n      <td>0.597561</td>\n      <td>0.629932</td>\n      <td>272.000000</td>\n    </tr>\n    <tr>\n      <th>weighted avg</th>\n      <td>0.893842</td>\n      <td>0.878676</td>\n      <td>0.841867</td>\n      <td>272.000000</td>\n    </tr>\n  </tbody>\n</table>\n</div>"
     },
     "execution_count": 13,
     "metadata": {},
     "output_type": "execute_result"
    }
   ],
   "source": [
    "y_pred = model.predict(X_test)\n",
    "report = classification_report(y_test, y_pred, output_dict=True)\n",
    "df_report = pd.DataFrame(report).transpose()\n",
    "df_report"
   ],
   "metadata": {
    "collapsed": false,
    "ExecuteTime": {
     "end_time": "2023-12-10T21:22:26.787856178Z",
     "start_time": "2023-12-10T21:22:26.629254196Z"
    }
   },
   "id": "9f2a811d90827cd3"
  },
  {
   "cell_type": "code",
   "execution_count": 14,
   "outputs": [],
   "source": [
    "df_report.to_csv('../../results/reports/svm-report.csv')"
   ],
   "metadata": {
    "collapsed": false,
    "ExecuteTime": {
     "end_time": "2023-12-10T21:22:26.798431848Z",
     "start_time": "2023-12-10T21:22:26.787756231Z"
    }
   },
   "id": "82c7850fb8821bb6"
  },
  {
   "cell_type": "code",
   "execution_count": 15,
   "outputs": [
    {
     "data": {
      "text/plain": "malicious\n0    231\n1     41\nName: count, dtype: int64"
     },
     "execution_count": 15,
     "metadata": {},
     "output_type": "execute_result"
    }
   ],
   "source": [
    "test_sample = y_test.value_counts()\n",
    "test_sample"
   ],
   "metadata": {
    "collapsed": false,
    "ExecuteTime": {
     "end_time": "2023-12-10T21:22:26.822624663Z",
     "start_time": "2023-12-10T21:22:26.798409062Z"
    }
   },
   "id": "c3372093e868126"
  },
  {
   "cell_type": "code",
   "execution_count": 16,
   "outputs": [
    {
     "data": {
      "text/plain": "'Percentage of malicious samples in the test dataset: 17.7489%'"
     },
     "execution_count": 16,
     "metadata": {},
     "output_type": "execute_result"
    }
   ],
   "source": [
    "test_sample_dict = test_sample.to_dict()\n",
    "\"Percentage of malicious samples in the test dataset: \" + str(round(100 * (test_sample_dict[1] / test_sample_dict[0]), 4)) + \"%\" "
   ],
   "metadata": {
    "collapsed": false,
    "ExecuteTime": {
     "end_time": "2023-12-10T21:22:26.882825329Z",
     "start_time": "2023-12-10T21:22:26.811646913Z"
    }
   },
   "id": "ad67816597e93c25"
  },
  {
   "cell_type": "code",
   "execution_count": 17,
   "outputs": [],
   "source": [
    "import pickle\n",
    "\n",
    "with open('../../results/models/svm.pkl','wb') as f:\n",
    "    pickle.dump(model, f)\n"
   ],
   "metadata": {
    "collapsed": false,
    "ExecuteTime": {
     "end_time": "2023-12-10T21:22:26.889185377Z",
     "start_time": "2023-12-10T21:22:26.830417146Z"
    }
   },
   "id": "d6c74caba5a84113"
  },
  {
   "cell_type": "code",
   "execution_count": 17,
   "outputs": [],
   "source": [],
   "metadata": {
    "collapsed": false,
    "ExecuteTime": {
     "end_time": "2023-12-10T21:22:26.889365297Z",
     "start_time": "2023-12-10T21:22:26.861563713Z"
    }
   },
   "id": "b3980bc932d236ca"
  }
 ],
 "metadata": {
  "kernelspec": {
   "display_name": "Python 3",
   "language": "python",
   "name": "python3"
  },
  "language_info": {
   "codemirror_mode": {
    "name": "ipython",
    "version": 2
   },
   "file_extension": ".py",
   "mimetype": "text/x-python",
   "name": "python",
   "nbconvert_exporter": "python",
   "pygments_lexer": "ipython2",
   "version": "2.7.6"
  }
 },
 "nbformat": 4,
 "nbformat_minor": 5
}
